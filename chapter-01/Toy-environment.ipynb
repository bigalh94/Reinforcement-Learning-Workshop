{
 "cells": [
  {
   "cell_type": "markdown",
   "metadata": {},
   "source": [
    "# Toy environment example from chapter 1\n",
    "This toy environment has all of the componants needed to understand more complex ones. The Environment class will be coded to include the basic components - A step function and a reset function.\n",
    "![](toy-environment.png)"
   ]
  },
  {
   "cell_type": "code",
   "execution_count": 3,
   "metadata": {
    "collapsed": true
   },
   "outputs": [],
   "source": [
    "from typing import Tuple"
   ]
  },
  {
   "cell_type": "markdown",
   "metadata": {},
   "source": [
    "![](toy-environment.png)"
   ]
  },
  {
   "cell_type": "code",
   "execution_count": 4,
   "metadata": {},
   "outputs": [],
   "source": [
    "class Environment:\n",
    "    def __init__(self):\n",
    "        \"\"\"\n",
    "        Constructor of the Environment class.\n",
    "        \"\"\"\n",
    "        self._initial_state = 1\n",
    "        self._allowed_actions = [0, 1] # 0: A, 1: B\n",
    "        self._states = [1, 2, 3]\n",
    "        self._current_state = self._initial_state\n",
    "        \n",
    "    def step(self, action: int) -> Tuple[int, int]:\n",
    "        \"\"\"\n",
    "        Step function: compute the one-step dynamic from the given action.\n",
    "        \n",
    "        Args:\n",
    "            action (int): the action taken by the agent.\n",
    "            \n",
    "        Returns:\n",
    "            The tuple current_state, reward.\n",
    "        \n",
    "        \"\"\" \n",
    "        # check if the action is allowed\n",
    "        if action not in self._allowed_actions:\n",
    "            raise ValueError(\"Action is not allowed\")\n",
    "           \n",
    "        reward = 0\n",
    "        if action == 0 and self._current_state == 1:\n",
    "            self._current_state = 2\n",
    "            reward = 1\n",
    "        elif action == 1 and self._current_state == 1:\n",
    "            self._current_state = 3\n",
    "            reward = 10\n",
    "        elif action == 0 and self._current_state == 2:\n",
    "            self._current_state = 1\n",
    "            reward = 0\n",
    "        elif action == 1 and self._current_state == 2:\n",
    "            self._current_state = 3\n",
    "            reward = 1\n",
    "        elif action == 0 and self._current_state == 3:\n",
    "            self._current_state = 2\n",
    "            reward = 0\n",
    "        elif action == 1 and self._current_state == 3:\n",
    "            self._current_state = 3\n",
    "            reward = 10\n",
    "        return self._current_state, reward\n",
    "    \n",
    "    def reset(self) -> int:\n",
    "        \"\"\"\n",
    "        Reset the environment starting from the initial state.\n",
    "        \n",
    "        returns:\n",
    "            The environment state after reset (initial state).\n",
    "        \"\"\"\n",
    "        self._current_state = self._initial_state\n",
    "        return self._current_state      "
   ]
  },
  {
   "cell_type": "code",
   "execution_count": 5,
   "metadata": {},
   "outputs": [],
   "source": [
    "env = Environment()"
   ]
  },
  {
   "cell_type": "code",
   "execution_count": 14,
   "metadata": {
    "collapsed": true
   },
   "outputs": [],
   "source": [
    "state = env.reset()"
   ]
  },
  {
   "cell_type": "code",
   "execution_count": 15,
   "metadata": {},
   "outputs": [
    {
     "name": "stdout",
     "output_type": "stream",
     "text": [
      "Initial state is 1\n"
     ]
    }
   ],
   "source": [
    "actions = [0, 0, 1, 1, 0, 1]\n",
    "\n",
    "print(f\"Initial state is {state}\")"
   ]
  },
  {
   "cell_type": "code",
   "execution_count": 19,
   "metadata": {},
   "outputs": [
    {
     "name": "stdout",
     "output_type": "stream",
     "text": [
      "From state 3 to state 2 with action 0, reward: 0\n",
      "From state 2 to state 1 with action 0, reward: 0\n",
      "From state 1 to state 3 with action 1, reward: 10\n",
      "From state 3 to state 3 with action 1, reward: 10\n",
      "From state 3 to state 2 with action 0, reward: 0\n",
      "From state 2 to state 3 with action 1, reward: 1\n"
     ]
    }
   ],
   "source": [
    "for action in actions:\n",
    "    next_state, reward = env.step(action)\n",
    "    print(f\"From state {state} to state {next_state} with action {action}, reward: {reward}\")\n",
    "    state = next_state"
   ]
  },
  {
   "cell_type": "code",
   "execution_count": null,
   "metadata": {
    "collapsed": true
   },
   "outputs": [],
   "source": []
  }
 ],
 "metadata": {
  "kernelspec": {
   "display_name": "Python 3",
   "language": "python",
   "name": "python3"
  },
  "language_info": {
   "codemirror_mode": {
    "name": "ipython",
    "version": 3
   },
   "file_extension": ".py",
   "mimetype": "text/x-python",
   "name": "python",
   "nbconvert_exporter": "python",
   "pygments_lexer": "ipython3",
   "version": "3.6.1"
  },
  "toc": {
   "base_numbering": 1,
   "nav_menu": {},
   "number_sections": true,
   "sideBar": true,
   "skip_h1_title": true,
   "title_cell": "Table of Contents",
   "title_sidebar": "Contents",
   "toc_cell": false,
   "toc_position": {},
   "toc_section_display": true,
   "toc_window_display": false
  }
 },
 "nbformat": 4,
 "nbformat_minor": 2
}
