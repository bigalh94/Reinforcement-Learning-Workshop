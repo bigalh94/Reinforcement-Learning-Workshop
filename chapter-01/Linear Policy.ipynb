{
 "cells": [
  {
   "cell_type": "markdown",
   "metadata": {},
   "source": [
    "# Linear Policy"
   ]
  },
  {
   "cell_type": "code",
   "execution_count": 2,
   "metadata": {},
   "outputs": [],
   "source": [
    "from typing import Callable, List\n",
    "import matplotlib.pyplot as plt\n",
    "import numpy as np\n",
    "import scipy.stats"
   ]
  },
  {
   "cell_type": "raw",
   "metadata": {},
   "source": []
  },
  {
   "cell_type": "code",
   "execution_count": 7,
   "metadata": {},
   "outputs": [],
   "source": [
    "class LinearPolicy:\n",
    "    def __init__(self,\n",
    "                parameters: np.ndarray,\n",
    "                features: Callable[[np.array],\n",
    "                np.ndarray]):\n",
    "        \"\"\"\n",
    "        Linear Policy Constructor.\n",
    "        \n",
    "        Args:\n",
    "            parameters (np.ndarray): policy parameters as np.ndarray.\n",
    "            features (Callable[[np.ndarray], np.ndarray]): function used to extract features from the state representation.\n",
    "        \"\"\"\n",
    "        self._parameters = parameters\n",
    "        self._features = features\n",
    "        \n",
    "    def __call__(self, state: np.ndarray) -> np.ndarray:\n",
    "        \"\"\"\n",
    "        Call method of the Policy.\n",
    "\n",
    "        Args:\n",
    "            state (np.ndarray): environment state.\n",
    "\n",
    "        Returns:\n",
    "            The resulting action.\n",
    "        \"\"\"\n",
    "\n",
    "        #  calculate state features\n",
    "        state_features = self._features(state)\n",
    "\n",
    "        \"\"\"\n",
    "        the parameters shape [0] should be the same as the state features as they must be multiplied\n",
    "        \"\"\"\n",
    "        assert state_features.shape[0] == self._parameters.shape[0]\n",
    "\n",
    "        # dot product between parameters and state features \n",
    "        return np.dot(self._parameters.T, state_features)"
   ]
  },
  {
   "cell_type": "code",
   "execution_count": 8,
   "metadata": {},
   "outputs": [
    {
     "name": "stdout",
     "output_type": "stream",
     "text": [
      "[[2.23827488]]\n"
     ]
    }
   ],
   "source": [
    "# sample a random set of parameters\n",
    "parameters = np.random.rand(5, 1)\n",
    "\n",
    "# define the state features as identity function\n",
    "features = lambda x: x\n",
    "\n",
    "# define the policy\n",
    "pi: LinearPolicy = LinearPolicy(parameters, features)\n",
    "    \n",
    "# smaple a state\n",
    "state = np.random.rand(5, 1)\n",
    "\n",
    "# Call the policy obtaining the action\n",
    "action = pi(state)\n",
    "\n",
    "print(action)"
   ]
  }
 ],
 "metadata": {
  "kernelspec": {
   "display_name": "Python 3",
   "language": "python",
   "name": "python3"
  },
  "language_info": {
   "codemirror_mode": {
    "name": "ipython",
    "version": 3
   },
   "file_extension": ".py",
   "mimetype": "text/x-python",
   "name": "python",
   "nbconvert_exporter": "python",
   "pygments_lexer": "ipython3",
   "version": "3.6.13"
  },
  "toc": {
   "base_numbering": 1,
   "nav_menu": {},
   "number_sections": true,
   "sideBar": true,
   "skip_h1_title": true,
   "title_cell": "Table of Contents",
   "title_sidebar": "Contents",
   "toc_cell": false,
   "toc_position": {},
   "toc_section_display": true,
   "toc_window_display": false
  }
 },
 "nbformat": 4,
 "nbformat_minor": 2
}
