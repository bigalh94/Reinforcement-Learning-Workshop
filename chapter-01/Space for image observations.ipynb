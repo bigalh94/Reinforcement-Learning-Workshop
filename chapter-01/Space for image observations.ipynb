{
 "cells": [
  {
   "cell_type": "code",
   "execution_count": null,
   "id": "golden-customs",
   "metadata": {},
   "outputs": [],
   "source": [
    "import gym\n",
    "from gym import spaces\n",
    "\n",
    "import matplotlib.pyplot as plt\n",
    "%matplotlib inline\n",
    "\n",
    "import numpy as np # used for the dtype of the space\n",
    "\n",
    "\"\"\"\n",
    "since the Space is RGB images with shape 256x256 the final shape is (256, 256, 3)\n",
    "\"\"\"\n",
    "shape = (256, 256, 3)\n",
    "\n",
    "# If we consider uint8 images the bounds are 0-255\n",
    "low = 0\n",
    "high = 255\n",
    "\n",
    "# Space type: unsigned int\n",
    "dtype = np.uint8\n",
    "\n",
    "# Create the space\n",
    "space = spaces.Box(low=low, high=high, shape=shape, dtype=dtype)\n",
    "\n",
    "# Print space representation\n",
    "print(\"Space\", space) # prints WxHxC\n",
    "\n",
    "# Sample from the space\n",
    "sample = space.sample()\n",
    "print(\"Space Sample\", sample)"
   ]
  },
  {
   "cell_type": "code",
   "execution_count": null,
   "id": "leading-season",
   "metadata": {},
   "outputs": [],
   "source": [
    "plt.imshow(sample)"
   ]
  },
  {
   "cell_type": "code",
   "execution_count": null,
   "id": "intellectual-grass",
   "metadata": {},
   "outputs": [],
   "source": [
    "# We want a space representint the last n=4 frames\n",
    "n_frames = 4 # number of frames\n",
    "width = 256 # image width\n",
    "height = 256 # image height\n",
    "channels = 3 # number of channels (RGB)\n",
    "shape_temporal = (n_frames, width, height, channels)\n",
    "# create a new instance of space\n",
    "space_temporal = spaces.Box(low=low, high=high, shape=shape_temporal, dtype=dtype)\n",
    "\n",
    "print(\"Space with temporal component\", space_temporal)"
   ]
  },
  {
   "cell_type": "code",
   "execution_count": 6,
   "id": "respected-legislature",
   "metadata": {},
   "outputs": [],
   "source": [
    "# Create the environment using gym.make(env_name)\n",
    "import gym\n",
    "import time\n",
    "env = gym.make(\"CartPole-v0\")\n",
    "\n",
    "# Reset the envirenment (mandatory)\n",
    "env.reset()\n",
    "\n",
    "# render the environment for 100 steps\n",
    "n_steps = 1000\n",
    "for i in range(n_steps):\n",
    "    env.render()    \n",
    "    action = env.action_space.sample()\n",
    "    obs, rew, done, info = env.step(action)\n",
    "# Had to change things up some. Need to reset the environment if \"done\". https://github.com/openai/gym/issues/1116\n",
    "    if done:\n",
    "        env.reset()\n",
    "        time.sleep(0.1)\n",
    "    \n",
    "# Close the environment correctly\n",
    "env.close()"
   ]
  }
 ],
 "metadata": {
  "kernelspec": {
   "display_name": "Python 3",
   "language": "python",
   "name": "python3"
  },
  "language_info": {
   "codemirror_mode": {
    "name": "ipython",
    "version": 3
   },
   "file_extension": ".py",
   "mimetype": "text/x-python",
   "name": "python",
   "nbconvert_exporter": "python",
   "pygments_lexer": "ipython3",
   "version": "3.6.13"
  },
  "toc": {
   "base_numbering": 1,
   "nav_menu": {},
   "number_sections": true,
   "sideBar": true,
   "skip_h1_title": true,
   "title_cell": "Table of Contents",
   "title_sidebar": "Contents",
   "toc_cell": false,
   "toc_position": {},
   "toc_section_display": true,
   "toc_window_display": false
  }
 },
 "nbformat": 4,
 "nbformat_minor": 5
}
