{
 "cells": [
  {
   "cell_type": "code",
   "execution_count": 1,
   "id": "imperial-poker",
   "metadata": {},
   "outputs": [
    {
     "name": "stdout",
     "output_type": "stream",
     "text": [
      "Action Space: Discrete(2)\n",
      "Observation Space: Box(-3.4028234663852886e+38, 3.4028234663852886e+38, (4,), float32)\n"
     ]
    }
   ],
   "source": [
    "# Import the gym Library\n",
    "import gym\n",
    "\n",
    "# Create the environment using gym.make(env_name)\n",
    "env = gym.make('CartPole-v1')\n",
    "\n",
    "\"\"\"\n",
    "Analyze the action space of cart pole using the property action_space\n",
    "\"\"\"\n",
    "print(\"Action Space:\", env.action_space)\n",
    "\n",
    "\"\"\"\n",
    "Analyze the observation space of cartpole using the property observation_space\n",
    "\"\"\"\n",
    "print(\"Observation Space:\", env.observation_space)"
   ]
  },
  {
   "cell_type": "code",
   "execution_count": null,
   "id": "modern-transcript",
   "metadata": {},
   "outputs": [],
   "source": []
  },
  {
   "cell_type": "markdown",
   "id": "opposite-seeking",
   "metadata": {},
   "source": [
    "The two discrete actions are Go Left (0) and Go Right (1).<br> The (4,) means that it is a 4 dimensional box, subset of $\\mathbb{R}^n$.<br> The forms of each interval in the Box space can be one of $[a,b],(-\\infty,b],[a,+\\infty),(-\\infty,+\\infty)$.\n",
    "> **Note:**<br> The square brackets indicate bounded values, and the parenthsis indicate unbounded values.\n"
   ]
  },
  {
   "cell_type": "code",
   "execution_count": 2,
   "id": "extra-present",
   "metadata": {},
   "outputs": [
    {
     "name": "stdout",
     "output_type": "stream",
     "text": [
      "Lower bound of the Observation Space: [-4.8000002e+00 -3.4028235e+38 -4.1887903e-01 -3.4028235e+38]\n",
      "Upper bound of the Observation Space: [4.8000002e+00 3.4028235e+38 4.1887903e-01 3.4028235e+38]\n"
     ]
    }
   ],
   "source": [
    "# Analyze the bounds of the observation space\n",
    "print(\"Lower bound of the Observation Space:\", env.observation_space.low)\n",
    "print(\"Upper bound of the Observation Space:\", env.observation_space.high)"
   ]
  },
  {
   "cell_type": "markdown",
   "id": "solved-single",
   "metadata": {},
   "source": [
    "From left to right, these represent the cart position, velocity, pole angle in rads, and angular velocity.\n",
    "\n",
    "Create a simple space and sample it:"
   ]
  },
  {
   "cell_type": "code",
   "execution_count": 9,
   "id": "bigger-suspect",
   "metadata": {},
   "outputs": [
    {
     "name": "stdout",
     "output_type": "stream",
     "text": [
      "Discrete Space Sample: 4\n",
      "Box Space Sample: [[0.9152002  0.58414215 0.14331636 0.69191855]\n",
      " [0.7673505  0.5788462  0.12807053 0.8396702 ]\n",
      " [0.5162505  0.00189281 0.64061785 0.98596126]\n",
      " [0.675657   0.6082858  0.6773297  0.7513691 ]]\n"
     ]
    }
   ],
   "source": [
    "# Type hinting\n",
    "from typing import Tuple\n",
    "import gym \n",
    "\n",
    "# Import the spaces module\n",
    "from gym import spaces\n",
    "\n",
    "# Create a discrete space composed by N-elements (5)\n",
    "n: int = 5\n",
    "    \n",
    "discrete_space = spaces.Discrete(n=n)\n",
    "\n",
    "# Sample from the space using .sample method\n",
    "print(\"Discrete Space Sample:\", discrete_space.sample())\n",
    "\n",
    "\"\"\"\n",
    "Create a Box space with a shape of (4, 4)\n",
    "Upper and lower Bound are 0 and 1\n",
    "\"\"\"\n",
    "\n",
    "box_shape: Tuple[int, int] = (4, 4)\n",
    "box_space = spaces.Box(low=0, high=1, shape=box_shape)\n",
    "\n",
    "# Sample from the space using .sample method\n",
    "print(\"Box Space Sample:\", box_space.sample())"
   ]
  },
  {
   "cell_type": "markdown",
   "id": "hybrid-decline",
   "metadata": {},
   "source": [
    "This is a random sample of the $4^{th}$ element from the discrete space composed of 5 elements (0 to 4). The result is a 4x4 matrix bounded between 0 and 1.\n",
    "\n",
    "The sample can be seeded for reproducibility."
   ]
  },
  {
   "cell_type": "code",
   "execution_count": 10,
   "id": "located-package",
   "metadata": {},
   "outputs": [
    {
     "name": "stdout",
     "output_type": "stream",
     "text": [
      "Discrete Space (seed=0) Sample: 0\n",
      "Box Space (seed=0) Sample: [[0.05436005 0.9653909  0.63269097 0.29001734]\n",
      " [0.10248426 0.67307633 0.39257675 0.66984606]\n",
      " [0.05983897 0.52698725 0.04029069 0.9779441 ]\n",
      " [0.46293673 0.6296479  0.9470484  0.6992778 ]]\n"
     ]
    }
   ],
   "source": [
    "# Seed spaces to obtain reproducible samples\n",
    "discrete_space.seed(0)\n",
    "box_space.seed(0)\n",
    "\n",
    "# Sample from the space using .sample method\n",
    "print(\"Discrete Space (seed=0) Sample:\", discrete_space.sample())\n",
    "\n",
    "# Sample from the space using .sample method\n",
    "print(\"Box Space (seed=0) Sample:\", box_space.sample())"
   ]
  }
 ],
 "metadata": {
  "kernelspec": {
   "display_name": "Python 3",
   "language": "python",
   "name": "python3"
  },
  "language_info": {
   "codemirror_mode": {
    "name": "ipython",
    "version": 3
   },
   "file_extension": ".py",
   "mimetype": "text/x-python",
   "name": "python",
   "nbconvert_exporter": "python",
   "pygments_lexer": "ipython3",
   "version": "3.6.13"
  },
  "toc": {
   "base_numbering": 1,
   "nav_menu": {},
   "number_sections": true,
   "sideBar": true,
   "skip_h1_title": true,
   "title_cell": "Table of Contents",
   "title_sidebar": "Contents",
   "toc_cell": false,
   "toc_position": {},
   "toc_section_display": true,
   "toc_window_display": false
  }
 },
 "nbformat": 4,
 "nbformat_minor": 5
}
